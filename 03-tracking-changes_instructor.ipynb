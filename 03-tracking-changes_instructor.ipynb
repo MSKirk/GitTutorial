{
 "cells": [
  {
   "cell_type": "markdown",
   "metadata": {},
   "source": [
    "# Tracking Changes "
   ]
  },
  {
   "cell_type": "markdown",
   "metadata": {},
   "source": [
    "## Adding files and the staging area"
   ]
  },
  {
   "cell_type": "markdown",
   "metadata": {},
   "source": [
    "First let’s make sure we’re still in the right directory. You should be in the planets directory."
   ]
  },
  {
   "cell_type": "code",
   "execution_count": 2,
   "metadata": {},
   "outputs": [
    {
     "name": "stdout",
     "output_type": "stream",
     "text": [
      "/Users/mskirk/Desktop/Git Tutorial\n"
     ]
    }
   ],
   "source": [
    "pwd"
   ]
  },
  {
   "cell_type": "markdown",
   "metadata": {},
   "source": [
    "If you are still in moons, navigate back up to planets"
   ]
  },
  {
   "cell_type": "code",
   "execution_count": 3,
   "metadata": {},
   "outputs": [],
   "source": [
    "cd /Users/mskirk/Desktop/planets"
   ]
  },
  {
   "cell_type": "code",
   "execution_count": 4,
   "metadata": {},
   "outputs": [
    {
     "name": "stdout",
     "output_type": "stream",
     "text": [
      "/Users/mskirk/Desktop/planets\n"
     ]
    }
   ],
   "source": [
    "pwd"
   ]
  },
  {
   "cell_type": "markdown",
   "metadata": {},
   "source": [
    "Let’s create a file called mars.txt that contains some notes about the Red Planet’s suitability as a base. We’ll use TextWrangler to edit the file; you can use whatever editor you like. In particular, this does not have to be the core.editor you set globally earlier. But remember, the bash command to create or edit a new file will depend on the editor you choose (it might not be TextWrangler).\n",
    "\n",
    "```\n",
    "$ edit mars.txt\n",
    "```\n",
    "\n",
    "Type the text below into the mars.txt file:\n",
    "\n",
    "> Cold and dry, but everything is my favorite color\n",
    "\n",
    "mars.txt now contains a single line, which we can see by running:"
   ]
  },
  {
   "cell_type": "code",
   "execution_count": 5,
   "metadata": {},
   "outputs": [
    {
     "name": "stdout",
     "output_type": "stream",
     "text": [
      "mars.txt\n"
     ]
    }
   ],
   "source": [
    "ls"
   ]
  },
  {
   "cell_type": "code",
   "execution_count": 6,
   "metadata": {},
   "outputs": [
    {
     "name": "stdout",
     "output_type": "stream",
     "text": [
      "Cold and dry, but everything is my favorite color\n",
      "The two moons may be a problem for Wolfman\n"
     ]
    }
   ],
   "source": [
    "cat mars.txt"
   ]
  },
  {
   "cell_type": "markdown",
   "metadata": {},
   "source": [
    "If we check the status of our project again, Git tells us that it’s noticed the new file:"
   ]
  },
  {
   "cell_type": "code",
   "execution_count": 7,
   "metadata": {},
   "outputs": [
    {
     "name": "stdout",
     "output_type": "stream",
     "text": [
      "On branch master\n",
      "Changes not staged for commit:\n",
      "  (use \"git add <file>...\" to update what will be committed)\n",
      "  (use \"git checkout -- <file>...\" to discard changes in working directory)\n",
      "\n",
      "\t\u001b[31mmodified:   mars.txt\u001b[m\n",
      "\n",
      "no changes added to commit (use \"git add\" and/or \"git commit -a\")\n"
     ]
    }
   ],
   "source": [
    "git status"
   ]
  },
  {
   "cell_type": "markdown",
   "metadata": {},
   "source": [
    "The “untracked files” message means that there’s a file in the directory that Git isn’t keeping track of. We can tell Git to track a file using git add:"
   ]
  },
  {
   "cell_type": "code",
   "execution_count": 8,
   "metadata": {},
   "outputs": [],
   "source": [
    "git add mars.txt"
   ]
  },
  {
   "cell_type": "markdown",
   "metadata": {},
   "source": [
    "and then check that the right thing happened:"
   ]
  },
  {
   "cell_type": "code",
   "execution_count": 9,
   "metadata": {},
   "outputs": [
    {
     "name": "stdout",
     "output_type": "stream",
     "text": [
      "On branch master\n",
      "Changes to be committed:\n",
      "  (use \"git reset HEAD <file>...\" to unstage)\n",
      "\n",
      "\t\u001b[32mmodified:   mars.txt\u001b[m\n",
      "\n"
     ]
    }
   ],
   "source": [
    "git status"
   ]
  },
  {
   "cell_type": "markdown",
   "metadata": {},
   "source": [
    "Git now knows that it’s supposed to keep track of mars.txt, but it hasn’t recorded these changes as a commit yet. To get it to do that, we need to run one more command:"
   ]
  },
  {
   "cell_type": "code",
   "execution_count": 10,
   "metadata": {},
   "outputs": [
    {
     "name": "stdout",
     "output_type": "stream",
     "text": [
      "[master 40ef2dc] Start notes on Mars as a base\n",
      " 1 file changed, 1 insertion(+)\n"
     ]
    }
   ],
   "source": [
    "git commit -m \"Start notes on Mars as a base\""
   ]
  },
  {
   "cell_type": "markdown",
   "metadata": {},
   "source": [
    "When we run `git commit`, Git takes everything we have told it to save by using `git add` and stores a copy permanently inside the special `.git` directory. This permanent copy is called a commit (or revision) and its short identifier is `537db96`. Your commit may have another identifier.\n",
    "\n",
    "We use the `-m` flag (for “message”) to record a short, descriptive, and specific comment that will help us remember later on what we did and why. If we just run `git commit` without the `-m` option, Git will launch `TextWrangler` (or whatever other editor we configured as `core.editor`) so that we can write a longer message.\n",
    "\n",
    "Good commit messages start with a brief (<50 characters) statement about the changes made in the commit. Generally, the message should complete the sentence “If applied, this commit will” . If you want to go into more detail, add a blank line between the summary line and your additional notes. Use this additional space to explain why you made changes and/or what their impact will be.\n",
    "\n",
    "If we run `git status` now:"
   ]
  },
  {
   "cell_type": "code",
   "execution_count": 11,
   "metadata": {},
   "outputs": [
    {
     "name": "stdout",
     "output_type": "stream",
     "text": [
      "On branch master\n",
      "nothing to commit, working tree clean\n"
     ]
    }
   ],
   "source": [
    "git status"
   ]
  },
  {
   "cell_type": "markdown",
   "metadata": {},
   "source": [
    "it tells us everything is up to date. If we want to know what we’ve done recently, we can ask Git to show us the project’s history using `git log`:"
   ]
  },
  {
   "cell_type": "code",
   "execution_count": 12,
   "metadata": {},
   "outputs": [
    {
     "name": "stdout",
     "output_type": "stream",
     "text": [
      "\u001b[33mcommit 40ef2dc94a9582f929059d2fa389a21ee4be583c\u001b[m\n",
      "Author: MSKirk <michael.s.kirk@gmail.com>\n",
      "Date:   Wed Feb 6 14:54:17 2019 -0500\n",
      "\n",
      "    Start notes on Mars as a base\n",
      "\n",
      "\u001b[33mcommit 537db96373e9ab24a4fa8a6a3de43415598dda16\u001b[m\n",
      "Author: MSKirk <michael.s.kirk@gmail.com>\n",
      "Date:   Wed Feb 6 14:50:51 2019 -0500\n",
      "\n",
      "    Start notes on Mars as a base\n"
     ]
    }
   ],
   "source": [
    "git log"
   ]
  },
  {
   "cell_type": "markdown",
   "metadata": {},
   "source": [
    "`git log` lists all commits made to a repository in reverse chronological order. The listing for each commit includes the commit’s full identifier (which starts with the same characters as the short identifier printed by the git commit command earlier), the commit’s author, when it was created, and the log message Git was given when the commit was created."
   ]
  },
  {
   "cell_type": "markdown",
   "metadata": {},
   "source": [
    "\n",
    "<section class=\"callout panel panel-warning\">\n",
    "<div class=\"panel-heading\">\n",
    "<h2><span class=\"fa fa-thumb-tack\"></span> # Where Are My Changes?</h2>\n",
    "</div>\n",
    "\n",
    "\n",
    "<div class=\"panel-body\">\n",
    "\n",
    "<p>If we run <code>ls</code> at this point, we will still see just one file called <code>mars.txt</code>. That’s because Git saves information about files’ history in the special <code>.git</code> directory mentioned earlier so that our filesystem doesn’t become cluttered (and so that we can’t accidentally edit or delete an old version).</p>\n",
    "\n",
    "</div>\n",
    "\n",
    "</section>\n"
   ]
  },
  {
   "cell_type": "markdown",
   "metadata": {},
   "source": [
    "Now suppose Dracula adds more information to the file. (Again, we’ll edit with `TextWrangler` and then `cat` the file to show its contents; you may use a different editor, and don’t need to `cat`.)"
   ]
  },
  {
   "cell_type": "code",
   "execution_count": 13,
   "metadata": {},
   "outputs": [
    {
     "name": "stdout",
     "output_type": "stream",
     "text": [
      "Cold and dry, but everything is my favorite color\n",
      "The two moons may be a problem for Wolfman\n"
     ]
    }
   ],
   "source": [
    "edit mars.txt\n",
    "cat mars.txt"
   ]
  },
  {
   "cell_type": "markdown",
   "metadata": {},
   "source": [
    "```\n",
    "Cold and dry, but everything is my favorite color\n",
    "The two moons may be a problem for Wolfman\n",
    "```"
   ]
  },
  {
   "cell_type": "markdown",
   "metadata": {},
   "source": [
    "When we run git status now, it tells us that a file it already knows about has been modified:"
   ]
  },
  {
   "cell_type": "code",
   "execution_count": 14,
   "metadata": {},
   "outputs": [
    {
     "name": "stdout",
     "output_type": "stream",
     "text": [
      "On branch master\n",
      "nothing to commit, working tree clean\n"
     ]
    }
   ],
   "source": [
    "git status"
   ]
  },
  {
   "cell_type": "markdown",
   "metadata": {},
   "source": [
    "The last line is the key phrase: “no changes added to commit”. We have changed this file, but we haven’t told Git we will want to save those changes (which we do with `git add`) nor have we saved them (which we do with `git commit`). So let’s do that now. It is good practice to always review our changes before saving them. We do this using git diff. This shows us the differences between the current state of the file and the most recently saved version:"
   ]
  },
  {
   "cell_type": "code",
   "execution_count": 15,
   "metadata": {},
   "outputs": [],
   "source": [
    "git diff"
   ]
  },
  {
   "cell_type": "markdown",
   "metadata": {},
   "source": [
    "The output is cryptic because it is actually a series of commands for tools like editors and patch telling them how to reconstruct one file given the other. If we break it down into pieces:\n",
    "\n",
    "1. The first line tells us that Git is producing output similar to the Unix diff command comparing the old and new versions of the file.\n",
    "1. The second line tells exactly which versions of the file Git is comparing; df0654a and 315bf3a are unique computer-generated labels for those versions.\n",
    "1. The third and fourth lines once again show the name of the file being changed.\n",
    "1. The remaining lines are the most interesting, they show us the actual differences and the lines on which they occur. In particular, the + marker in the first column shows where we added a line.\n",
    "\n",
    "After reviewing our change, it’s time to commit it:"
   ]
  },
  {
   "cell_type": "code",
   "execution_count": 16,
   "metadata": {},
   "outputs": [
    {
     "name": "stdout",
     "output_type": "stream",
     "text": [
      "On branch master\n",
      "nothing to commit, working tree clean\n",
      "On branch master\n",
      "nothing to commit, working tree clean\n"
     ]
    }
   ],
   "source": [
    "git commit -m \"Add concerns about effects of Mars' moons on Wolfman\"\n",
    "git status"
   ]
  },
  {
   "cell_type": "markdown",
   "metadata": {},
   "source": [
    "Whoops: Git won’t commit because we didn’t use git add first. Let’s fix that:"
   ]
  },
  {
   "cell_type": "markdown",
   "metadata": {},
   "source": [
    "git add mars.txt\n",
    "git commit -m \"Add concerns about effects of Mars' moons on Wolfman\""
   ]
  },
  {
   "cell_type": "markdown",
   "metadata": {},
   "source": [
    "Git insists that we add files to the set we want to commit before actually committing anything. This allows us to commit our changes in stages and capture changes in logical portions rather than only large batches. For example, suppose we’re adding a few citations to relevant research to our thesis. We might want to commit those additions, and the corresponding bibliography entries, but not commit some of our work drafting the conclusion (which we haven’t finished yet).\n",
    "\n",
    "To allow for this, Git has a special staging area where it keeps track of things that have been added to the current changeset but not yet committed."
   ]
  },
  {
   "cell_type": "markdown",
   "metadata": {},
   "source": [
    "\n",
    "<section class=\"callout panel panel-warning\">\n",
    "<div class=\"panel-heading\">\n",
    "<h2><span class=\"fa fa-thumb-tack\"></span> # Staging Area</h2>\n",
    "</div>\n",
    "\n",
    "\n",
    "<div class=\"panel-body\">\n",
    "\n",
    "<p>If you think of Git as taking snapshots of changes over the life of a project, git add specifies what will go in a snapshot (putting things in the staging area), and git commit then actually takes the snapshot, and makes a permanent record of it (as a commit). If you don’t have anything staged when you type git commit, Git will prompt you to use git commit -a or git commit --all, which is kind of like gathering everyone for the picture! However, it’s almost always better to explicitly add things to the staging area, because you might commit changes you forgot you made. (Going back to snapshots, you might get the extra with incomplete makeup walking on the stage for the snapshot because you used -a!) Try to stage things manually, or you might find yourself searching for “git undo commit” more than you would like!</p>\n",
    "<p><img alt=\"\" src=\"http://swcarpentry.github.io/git-novice/fig/git-staging-area.svg\" /></p>\n",
    "\n",
    "</div>\n",
    "\n",
    "</section>\n"
   ]
  },
  {
   "cell_type": "markdown",
   "metadata": {},
   "source": [
    "Let’s watch as our changes to a file move from our editor to the staging area and into long-term storage. First, we’ll add another line to the file:"
   ]
  },
  {
   "cell_type": "code",
   "execution_count": 17,
   "metadata": {},
   "outputs": [
    {
     "name": "stdout",
     "output_type": "stream",
     "text": [
      "Cold and dry, but everything is my favorite color\n",
      "The two moons may be a problem for Wolfman\n"
     ]
    }
   ],
   "source": [
    "edit mars.txt\n",
    "cat mars.txt"
   ]
  },
  {
   "cell_type": "code",
   "execution_count": 18,
   "metadata": {},
   "outputs": [],
   "source": [
    "git diff"
   ]
  },
  {
   "cell_type": "markdown",
   "metadata": {},
   "source": [
    "So far, so good: we’ve added one line to the end of the file (shown with a + in the first column). Now let’s put that change in the staging area and see what git diff reports:"
   ]
  },
  {
   "cell_type": "code",
   "execution_count": 19,
   "metadata": {},
   "outputs": [],
   "source": [
    "git add mars.txt\n",
    "git diff"
   ]
  },
  {
   "cell_type": "markdown",
   "metadata": {},
   "source": [
    "There is no output: as far as Git can tell, there’s no difference between what it’s been asked to save permanently and what’s currently in the directory. However, if we do this:"
   ]
  },
  {
   "cell_type": "code",
   "execution_count": 20,
   "metadata": {},
   "outputs": [],
   "source": [
    "git diff --staged"
   ]
  },
  {
   "cell_type": "markdown",
   "metadata": {},
   "source": [
    "it shows us the difference between the last committed change and what’s in the staging area. Let’s save our changes:"
   ]
  },
  {
   "cell_type": "code",
   "execution_count": 21,
   "metadata": {},
   "outputs": [
    {
     "name": "stdout",
     "output_type": "stream",
     "text": [
      "On branch master\n",
      "nothing to commit, working tree clean\n"
     ]
    },
    {
     "ename": "",
     "evalue": "1",
     "output_type": "error",
     "traceback": []
    }
   ],
   "source": [
    "git commit -m \"Discuss concerns about Mars' climate for Mummy\""
   ]
  },
  {
   "cell_type": "markdown",
   "metadata": {},
   "source": [
    "check our status:"
   ]
  },
  {
   "cell_type": "code",
   "execution_count": 22,
   "metadata": {},
   "outputs": [
    {
     "name": "stdout",
     "output_type": "stream",
     "text": [
      "On branch master\n",
      "nothing to commit, working tree clean\n"
     ]
    }
   ],
   "source": [
    "git status"
   ]
  },
  {
   "cell_type": "markdown",
   "metadata": {},
   "source": [
    "and look at the history of what we’ve done so far:"
   ]
  },
  {
   "cell_type": "code",
   "execution_count": null,
   "metadata": {},
   "outputs": [],
   "source": [
    "git log"
   ]
  },
  {
   "cell_type": "markdown",
   "metadata": {},
   "source": [
    "\n",
    "<section class=\"callout panel panel-warning\">\n",
    "<div class=\"panel-heading\">\n",
    "<h2><span class=\"fa fa-thumb-tack\"></span> # Word-based diffing</h2>\n",
    "</div>\n",
    "\n",
    "\n",
    "<div class=\"panel-body\">\n",
    "\n",
    "<p>Sometimes, e.g. in the case of the text documents a line-wise diff is too coarse. That is where the --color-words option of git diff comes in very useful as it highlights the changed words using colors.</p>\n",
    "\n",
    "</div>\n",
    "\n",
    "</section>\n"
   ]
  },
  {
   "cell_type": "markdown",
   "metadata": {},
   "source": [
    "\n",
    "<section class=\"callout panel panel-warning\">\n",
    "<div class=\"panel-heading\">\n",
    "<h2><span class=\"fa fa-thumb-tack\"></span> # Paging the Log</h2>\n",
    "</div>\n",
    "\n",
    "\n",
    "<div class=\"panel-body\">\n",
    "\n",
    "<p>When the output of git log is too long to fit in your screen, git uses a program to split it into pages of the size of your screen. When this “pager” is called, you will notice that the last line in your screen is a :, instead of your usual prompt.</p>\n",
    "<ul>\n",
    "<li>To get out of the pager, press Q.</li>\n",
    "<li>To move to the next page, press Spacebar.</li>\n",
    "<li>To search for some_word in all pages, press / and type some_word. Navigate through matches pressing N.</li>\n",
    "</ul>\n",
    "\n",
    "</div>\n",
    "\n",
    "</section>\n"
   ]
  },
  {
   "cell_type": "markdown",
   "metadata": {},
   "source": [
    "\n",
    "<section class=\"callout panel panel-warning\">\n",
    "<div class=\"panel-heading\">\n",
    "<h2><span class=\"fa fa-thumb-tack\"></span> # Limit Log Size</h2>\n",
    "</div>\n",
    "\n",
    "\n",
    "<div class=\"panel-body\">\n",
    "\n",
    "<p>To avoid having git log cover your entire terminal screen, you can limit the number of commits that Git lists by using -N, where N is the number of commits that you want to view. For example, if you only want information from the last commit you can use:</p>\n",
    "<div class=\"codehilite\"><pre><span></span>$ git log -1\n",
    "\n",
    "commit 005937fbe2a98fb83f0ade869025dc2636b4dad5\n",
    "Author: Vlad Dracula &lt;vlad@tran.sylvan.ia&gt;\n",
    "Date:   Thu Aug <span class=\"m\">22</span> <span class=\"m\">10</span>:14:07 <span class=\"m\">2013</span> -0400\n",
    "\n",
    "   Discuss concerns about Mars<span class=\"err\">&#39;</span> climate <span class=\"k\">for</span> Mummy\n",
    "</pre></div>\n",
    "\n",
    "\n",
    "<p>You can also reduce the quantity of information using the --oneline option:</p>\n",
    "<div class=\"codehilite\"><pre><span></span>$ git log --oneline\n",
    "\n",
    " * 005937f Discuss concerns about Mars<span class=\"s1\">&#39; climate for Mummy</span>\n",
    "<span class=\"s1\"> * 34961b1 Add concerns about effects of Mars&#39;</span> moons on Wolfman\n",
    " * f22b25e Start notes on Mars as a base\n",
    "</pre></div>\n",
    "\n",
    "\n",
    "<p>You can also combine the --oneline options with others. One useful combination is:</p>\n",
    "<div class=\"codehilite\"><pre><span></span><span class=\"nv\">$</span> <span class=\"nv\">git</span> <span class=\"nb\">log</span> <span class=\"o\">--</span><span class=\"n\">oneline</span> <span class=\"o\">--</span><span class=\"n\">graph</span> <span class=\"o\">--</span><span class=\"n\">all</span> <span class=\"o\">--</span><span class=\"n\">decorate</span>\n",
    "\n",
    "<span class=\"o\">*</span> <span class=\"mo\">005</span><span class=\"mi\">937</span><span class=\"n\">f</span> <span class=\"n\">Discuss</span> <span class=\"n\">concerns</span> <span class=\"n\">about</span> <span class=\"n\">Mars</span><span class=\"s\">&#39; climate for Mummy (HEAD, master)</span>\n",
    "<span class=\"s\">* 34961b1 Add concerns about effects of Mars&#39;</span> <span class=\"n\">moons</span> <span class=\"n\">on</span> <span class=\"n\">Wolfman</span>\n",
    "<span class=\"o\">*</span> <span class=\"n\">f22b25e</span> <span class=\"n\">Start</span> <span class=\"n\">notes</span> <span class=\"n\">on</span> <span class=\"n\">Mars</span> <span class=\"n\">as</span> <span class=\"n\">a</span> <span class=\"n\">base</span>\n",
    "</pre></div>\n",
    "\n",
    "</div>\n",
    "\n",
    "</section>\n"
   ]
  },
  {
   "cell_type": "markdown",
   "metadata": {},
   "source": [
    "\n",
    "<section class=\"callout panel panel-warning\">\n",
    "<div class=\"panel-heading\">\n",
    "<h2><span class=\"fa fa-thumb-tack\"></span> # Directories</h2>\n",
    "</div>\n",
    "\n",
    "\n",
    "<div class=\"panel-body\">\n",
    "\n",
    "<p>Two important facts you should know about directories in Git.</p>\n",
    "<ol>\n",
    "<li>Git does not track directories on their own, only files within them. Try it for yourself:</li>\n",
    "</ol>\n",
    "<div class=\"codehilite\"><pre><span></span>$ mkdir directory\n",
    "$ git status\n",
    "$ git add directory\n",
    "$ git status\n",
    "</pre></div>\n",
    "\n",
    "\n",
    "<p>Note, our newly created empty directory directory does not appear in the list of untracked files even if we explicitly add it (via git add) to our repository. This is the reason why you will sometimes see .gitkeep files in otherwise empty directories. Unlike .gitignore, these files are not special and their sole purpose is to populate a directory so that Git adds it to the repository. In fact, you can name such files anything you like.</p>\n",
    "<ol>\n",
    "<li>If you create a directory in your Git repository and populate it with files, you can add all files in the directory at once by:</li>\n",
    "</ol>\n",
    "<div class=\"codehilite\"><pre><span></span>git add &lt;directory-with-files&gt;\n",
    "</pre></div>\n",
    "\n",
    "</div>\n",
    "\n",
    "</section>\n"
   ]
  },
  {
   "cell_type": "markdown",
   "metadata": {},
   "source": [
    "To recap, when we want to add changes to our repository, we first need to add the changed files to the staging area (git add) and then commit the staged changes to the repository (git commit):\n",
    "\n",
    "![](http://swcarpentry.github.io/git-novice/fig/git-committing.svg)"
   ]
  },
  {
   "cell_type": "markdown",
   "metadata": {},
   "source": [
    "\n",
    "<section class=\"challange panel panel-success\">\n",
    "<div class=\"panel-heading\">\n",
    "<h2><span class=\"fa fa-pencil\"></span> # Choosing a Commit Message</h2>\n",
    "</div>\n",
    "\n",
    "\n",
    "<div class=\"panel-body\">\n",
    "\n",
    "<p>Which of the following commit messages would be most appropriate for the last commit made to mars.txt?</p>\n",
    "<ul>\n",
    "<li>“Changes”</li>\n",
    "<li>“Added line ‘But the Mummy will appreciate the lack of humidity’ to mars.txt”</li>\n",
    "<li>“Discuss effects of Mars’ climate on the Mummy”</li>\n",
    "</ul>\n",
    "\n",
    "</div>\n",
    "\n",
    "</section>\n"
   ]
  },
  {
   "cell_type": "markdown",
   "metadata": {},
   "source": [
    "\n",
    "<section class=\"solution panel panel-primary\">\n",
    "<div class=\"panel-heading\">\n",
    "<h2><span class=\"fa fa-eye\"></span> Solution</h2>\n",
    "</div>\n",
    "\n",
    "\n",
    "<div class=\"panel-body\">\n",
    "\n",
    "<p>Answer 1 is not descriptive enough, and the purpose of the commit is unclear; and answer 2 is redundant to using “git diff” to see what changed in this commit; but answer 3 is good: short, descriptive, and imperative.</p>\n",
    "\n",
    "</div>\n",
    "\n",
    "</section>\n"
   ]
  },
  {
   "cell_type": "markdown",
   "metadata": {},
   "source": [
    "\n",
    "<section class=\"challenge panel panel-success\">\n",
    "<div class=\"panel-heading\">\n",
    "<h2><span class=\"fa fa-pencil\"></span> # Committing Changes to Git</h2>\n",
    "</div>\n",
    "\n",
    "\n",
    "<div class=\"panel-body\">\n",
    "\n",
    "<p>Which command(s) below would save the changes of myfile.txt to my local Git repository?</p>\n",
    "<div class=\"codehilite\"><pre><span></span>$ git commit -m <span class=\"s2\">&quot;my recent changes&quot;</span>\n",
    "\n",
    "$ git init myfile.txt\n",
    "$ git commit -m <span class=\"s2\">&quot;my recent changes&quot;</span>\n",
    "\n",
    "$ git add myfile.txt\n",
    "$ git commit -m <span class=\"s2\">&quot;my recent changes&quot;</span>\n",
    "\n",
    "$ git commit -m myfile.txt <span class=\"s2\">&quot;my recent changes&quot;</span>\n",
    "</pre></div>\n",
    "\n",
    "</div>\n",
    "\n",
    "</section>\n"
   ]
  },
  {
   "cell_type": "markdown",
   "metadata": {},
   "source": [
    "\n",
    "<section class=\"solution panel panel-primary\">\n",
    "<div class=\"panel-heading\">\n",
    "<h2><span class=\"fa fa-eye\"></span> Solution</h2>\n",
    "</div>\n",
    "\n",
    "\n",
    "<div class=\"panel-body\">\n",
    "\n",
    "<ul>\n",
    "<li>Would only create a commit if files have already been staged.</li>\n",
    "<li>Would try to create a new repository.</li>\n",
    "<li>Is correct: first add the file to the staging area, then commit.</li>\n",
    "<li>Would try to commit a file “my recent changes” with the message myfile.txt.</li>\n",
    "</ul>\n",
    "\n",
    "</div>\n",
    "\n",
    "</section>\n"
   ]
  },
  {
   "cell_type": "markdown",
   "metadata": {},
   "source": [
    "\n",
    "<section class=\"challenge panel panel-success\">\n",
    "<div class=\"panel-heading\">\n",
    "<h2><span class=\"fa fa-pencil\"></span> # Committing Multiple Files</h2>\n",
    "</div>\n",
    "\n",
    "\n",
    "<div class=\"panel-body\">\n",
    "\n",
    "<p>The staging area can hold changes from any number of files that you want to commit as a single snapshot.</p>\n",
    "<ol>\n",
    "<li>Add some text to mars.txt noting your decision to consider Venus as a base</li>\n",
    "<li>Create a new file venus.txt with your initial thoughts about Venus as a base for you and your friends</li>\n",
    "<li>Add changes from both files to the staging area, and commit those changes.</li>\n",
    "</ol>\n",
    "\n",
    "</div>\n",
    "\n",
    "</section>\n"
   ]
  },
  {
   "cell_type": "markdown",
   "metadata": {},
   "source": [
    "\n",
    "<section class=\"solution panel panel-primary\">\n",
    "<div class=\"panel-heading\">\n",
    "<h2><span class=\"fa fa-eye\"></span> Solution</h2>\n",
    "</div>\n",
    "\n",
    "\n",
    "<div class=\"panel-body\">\n",
    "\n",
    "<p>First we make our changes to the mars.txt and venus.txt files:</p>\n",
    "<div class=\"codehilite\"><pre><span></span>$ edit mars.txt\n",
    "$ cat mars.txt\n",
    "\n",
    "Maybe I should start with a base on Venus.\n",
    "\n",
    "$ edit venus.txt\n",
    "$ cat venus.txt\n",
    "\n",
    "Venus is a nice planet and I definitely should consider it as a base.\n",
    "</pre></div>\n",
    "\n",
    "\n",
    "<p>Now you can add both files to the staging area. We can do that in one line:</p>\n",
    "<div class=\"codehilite\"><pre><span></span>$ git add mars.txt venus.txt\n",
    "</pre></div>\n",
    "\n",
    "\n",
    "<p>Or with multiple commands:</p>\n",
    "<div class=\"codehilite\"><pre><span></span>$ git add mars.txt\n",
    "$ git add venus.txt\n",
    "</pre></div>\n",
    "\n",
    "\n",
    "<p>Now the files are ready to commit. You can check that using git status. If you are ready to commit use:</p>\n",
    "<div class=\"codehilite\"><pre><span></span><span class=\"err\">$</span> <span class=\"n\">git</span> <span class=\"n\">commit</span> <span class=\"o\">-</span><span class=\"n\">m</span> <span class=\"s\">&quot;Write plans to start a base on Venus&quot;</span>\n",
    "\n",
    "<span class=\"p\">[</span><span class=\"n\">master</span> <span class=\"n\">cc127c2</span><span class=\"p\">]</span>\n",
    " <span class=\"n\">Write</span> <span class=\"n\">plans</span> <span class=\"n\">to</span> <span class=\"n\">start</span> <span class=\"n\">a</span> <span class=\"n\">base</span> <span class=\"n\">on</span> <span class=\"n\">Venus</span>\n",
    " <span class=\"mi\">2</span> <span class=\"n\">files</span> <span class=\"n\">changed</span><span class=\"p\">,</span> <span class=\"mi\">2</span> <span class=\"n\">insertions</span><span class=\"p\">(</span><span class=\"o\">+</span><span class=\"p\">)</span>\n",
    " <span class=\"n\">create</span> <span class=\"n\">mode</span> <span class=\"mi\">100644</span> <span class=\"n\">venus</span><span class=\"p\">.</span><span class=\"n\">txt</span>\n",
    "</pre></div>\n",
    "\n",
    "</div>\n",
    "\n",
    "</section>\n"
   ]
  },
  {
   "cell_type": "markdown",
   "metadata": {},
   "source": [
    "\n",
    "<section class=\"challenge panel panel-success\">\n",
    "<div class=\"panel-heading\">\n",
    "<h2><span class=\"fa fa-pencil\"></span> # `bio` Repository</h2>\n",
    "</div>\n",
    "\n",
    "\n",
    "<div class=\"panel-body\">\n",
    "\n",
    "<ul>\n",
    "<li>Create a new Git repository on your computer called bio.</li>\n",
    "<li>Write a three-line biography for yourself in a file called me.txt, commit your changes</li>\n",
    "<li>Modify one line, add a fourth line</li>\n",
    "<li>Display the differences between its updated state and its original state.</li>\n",
    "</ul>\n",
    "\n",
    "</div>\n",
    "\n",
    "</section>\n"
   ]
  },
  {
   "cell_type": "markdown",
   "metadata": {},
   "source": [
    "\n",
    "<section class=\"solution panel panel-primary\">\n",
    "<div class=\"panel-heading\">\n",
    "<h2><span class=\"fa fa-eye\"></span> Solution</h2>\n",
    "</div>\n",
    "\n",
    "\n",
    "<div class=\"panel-body\">\n",
    "\n",
    "<p>If needed, move out of the planets folder:</p>\n",
    "<div class=\"codehilite\"><pre><span></span>$ <span class=\"nb\">cd</span> ..\n",
    "</pre></div>\n",
    "\n",
    "\n",
    "<p>Create a new folder called bio and ‘move’ into it:</p>\n",
    "<div class=\"codehilite\"><pre><span></span>$ mkdir bio\n",
    "$ <span class=\"nb\">cd</span> bio\n",
    "</pre></div>\n",
    "\n",
    "\n",
    "<p>Initialise git:</p>\n",
    "<div class=\"codehilite\"><pre><span></span>$ git init\n",
    "</pre></div>\n",
    "\n",
    "\n",
    "<p>Create your biography file me.txt using TextWrangler or another text editor. Once in place, add and commit it to the repository:</p>\n",
    "<div class=\"codehilite\"><pre><span></span>$ git add me.txt\n",
    "$ git commit -m<span class=\"s1\">&#39;Adding biography file&#39;</span>\n",
    "</pre></div>\n",
    "\n",
    "\n",
    "<p>Modify the file as described (modify one line, add a fourth line). To display the differences between its updated state and its original state, use git diff:</p>\n",
    "<div class=\"codehilite\"><pre><span></span>$ git diff me.txt\n",
    "</pre></div>\n",
    "\n",
    "</div>\n",
    "\n",
    "</section>\n"
   ]
  },
  {
   "cell_type": "markdown",
   "metadata": {},
   "source": [
    "\n",
    "<section class=\"challenge panel panel-success\">\n",
    "<div class=\"panel-heading\">\n",
    "<h2><span class=\"fa fa-pencil\"></span> # Author and Committer</h2>\n",
    "</div>\n",
    "\n",
    "\n",
    "<div class=\"panel-body\">\n",
    "\n",
    "<p>For each of the commits you have done, Git stored your name twice. You are named as the author and as the committer. You can observe that by telling Git to show you more information about your last commits:</p>\n",
    "<div class=\"codehilite\"><pre><span></span>$ git log --format<span class=\"o\">=</span>full\n",
    "</pre></div>\n",
    "\n",
    "\n",
    "<p>When committing you can name someone else as the author:</p>\n",
    "<div class=\"codehilite\"><pre><span></span>$ git commit --author<span class=\"o\">=</span><span class=\"s2\">&quot;Vlad Dracula &lt;vlad@tran.sylvan.ia&gt;&quot;</span>\n",
    "</pre></div>\n",
    "\n",
    "\n",
    "<p>Create a new repository and create two commits: one without the --author option and one by naming a colleague of yours as the author. Run git log and git log --format=full. Think about ways how that can allow you to collaborate with your colleagues.</p>\n",
    "\n",
    "</div>\n",
    "\n",
    "</section>\n"
   ]
  },
  {
   "cell_type": "markdown",
   "metadata": {},
   "source": [
    "\n",
    "<section class=\"solution panel panel-primary\">\n",
    "<div class=\"panel-heading\">\n",
    "<h2><span class=\"fa fa-eye\"></span> Solution</h2>\n",
    "</div>\n",
    "\n",
    "\n",
    "<div class=\"panel-body\">\n",
    "\n",
    "<div class=\"codehilite\"><pre><span></span>$ git add me.txt\n",
    "$ git commit -m <span class=\"s2\">&quot;Update Vlad&#39;s bio.&quot;</span> --author<span class=\"o\">=</span><span class=\"s2\">&quot;Frank N. Stein &lt;franky@monster.com&gt;&quot;</span>\n",
    "\n",
    "<span class=\"o\">[</span>master 4162a51<span class=\"o\">]</span> Update Vlad<span class=\"s1\">&#39;s bio.</span>\n",
    "<span class=\"s1\">Author: Frank N. Stein &lt;franky@monster.com&gt;</span>\n",
    "<span class=\"s1\">1 file changed, 2 insertions(+), 2 deletions(-)</span>\n",
    "\n",
    "<span class=\"s1\">$ git log --format=full</span>\n",
    "<span class=\"s1\">commit 4162a51b273ba799a9d395dd70c45d96dba4e2ff</span>\n",
    "<span class=\"s1\">Author: Frank N. Stein &lt;franky@monster.com&gt;</span>\n",
    "<span class=\"s1\">Commit: Vlad Dracula &lt;vlad@tran.sylvan.ia&gt;</span>\n",
    "\n",
    "<span class=\"s1\">Update Vlad&#39;</span>s bio.\n",
    "\n",
    "commit aaa3271e5e26f75f11892718e83a3e2743fab8ea\n",
    "Author: Vlad Dracula &lt;vlad@tran.sylvan.ia&gt;\n",
    "Commit: Vlad Dracula &lt;vlad@tran.sylvan.ia&gt;\n",
    "\n",
    "Vlad<span class=\"err\">&#39;</span>s initial bio.\n",
    "</pre></div>\n",
    "\n",
    "</div>\n",
    "\n",
    "</section>\n"
   ]
  },
  {
   "cell_type": "markdown",
   "metadata": {},
   "source": [
    "\n",
    "<section class=\"keypoints panel panel-success\">\n",
    "<div class=\"panel-heading\">\n",
    "<h2><span class=\"fa fa-exclamation-circle\"></span> # Key Points</h2>\n",
    "</div>\n",
    "\n",
    "\n",
    "<div class=\"panel-body\">\n",
    "\n",
    "<ul>\n",
    "<li>git status shows the status of a repository.</li>\n",
    "<li>Files can be stored in a project’s working directory (which users see), the staging area (where the next commit is being built up) and the local repository (where commits are permanently recorded).</li>\n",
    "<li>git add puts files in the staging area.</li>\n",
    "<li>git commit saves the staged content as a new commit in the local repository.</li>\n",
    "<li>Write a commit message that accurately describes your changes.</li>\n",
    "</ul>\n",
    "\n",
    "</div>\n",
    "\n",
    "</section>\n"
   ]
  },
  {
   "cell_type": "markdown",
   "metadata": {},
   "source": [
    "---\n",
    "The material in this notebook is derived from the Software Carpentry lessons\n",
    "&copy; [Software Carpentry](http://software-carpentry.org/) under the terms\n",
    "of the [CC-BY 4.0](https://creativecommons.org/licenses/by/4.0/) license."
   ]
  }
 ],
 "metadata": {
  "kernelspec": {
   "display_name": "Bash",
   "language": "bash",
   "name": "bash"
  },
  "language_info": {
   "codemirror_mode": "shell",
   "file_extension": ".sh",
   "mimetype": "text/x-sh",
   "name": "bash"
  },
  "swc_attribution": true
 },
 "nbformat": 4,
 "nbformat_minor": 2
}
