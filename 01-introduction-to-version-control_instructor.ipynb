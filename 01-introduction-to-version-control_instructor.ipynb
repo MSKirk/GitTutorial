{
 "cells": [
  {
   "cell_type": "markdown",
   "metadata": {},
   "source": [
    "# Introduction to version control"
   ]
  },
  {
   "cell_type": "markdown",
   "metadata": {},
   "source": [
    "### What is version control?\n",
    "\n",
    "![Piled Higher and Deeper by Jorge Cham](http://phdcomics.com/comics/archive/phd101212s.gif)\n",
    "\n",
    "Most of us have experienced some situation similar to the above, and this is the situation version control aims to solve.\n",
    "Version control systems are a way to track and store changes to a document so that you can continually change one file without losing any of its previous contents.\n",
    "Since all the changes are saved, it is possible to go back to an earlier state of the document and recover old versions of some or all of the file, without having to save multiple separate documents with different names.\n",
    "This is extremely useful for both text documents, such as paper manuscripts, and code files, and makes it worth strongly considering using some kind of version control even if you expect to be the only person working on the file.\n",
    "\n",
    "Another powerful aspect of version control is that you can make different changes separately and combine them together.\n",
    "Again this can be extremely useful even when working alone, but where it really shines is in working with other people.\n",
    "This is because the changes don't have to be made on the same computer, so several people can be working on a file at once and those changes can then be combined into your file locally.\n",
    "\n",
    "You may have used some version tracking capability like the '`Track changes`' option in Word, for example, and if you have heard of or used Git you may also have heard of tools such as RCS, CVS, Subversion or Mercurial. All of these do some amount of version control in different ways, and all have advantages and disadvantages. We will be teaching Git in this course because it is very commonly used and has good tools available for sharing and collaboration, such as GitHub and GitLab."
   ]
  },
  {
   "cell_type": "markdown",
   "metadata": {},
   "source": [
    "## Getting set up\n",
    "\n",
    "When we use Git on a new computer for the first time, we need to configure a few things. Below are a few examples of configurations we will set as we get started with Git:\n",
    "\n",
    "- our name and email address,\n",
    "- what our preferred text editor is,\n",
    "- and that we want to use these settings globally (i.e. for every project).\n",
    "\n",
    "On a command line, Git commands are written as git verb, where verb is what we actually want to do. So here is how I set up my new laptop:\n",
    "\n",
    "```\n",
    "git config --global user.name \"Drew Leonard\"\n",
    "git config --global user.email \"andy.j.leonard@gmail.com\"\n",
    "```\n",
    "\n",
    "Please use your own name and email address instead of mine. This user name and email will be associated with your subsequent Git activity, which means that any changes pushed to GitHub, BitBucket, GitLab or another Git host server in a later lesson will include this information."
   ]
  },
  {
   "cell_type": "markdown",
   "metadata": {},
   "source": [
    "\n",
    "<section class=\"callout panel panel-warning\">\n",
    "<div class=\"panel-heading\">\n",
    "<h2><span class=\"fa fa-thumb-tack\"></span> Line Endings</h2>\n",
    "</div>\n",
    "\n",
    "\n",
    "<div class=\"panel-body\">\n",
    "\n",
    "<p>As with other keys, when you hit Return on your keyboard, your computer encodes this input as a character. For reasons that are long to explain, different operating systems use different character(s) to represent the end of a line. (You may also hear these referred to as newlines or line breaks.) Because Git uses these characters to compare files, it may cause unexpected issues when editing a file on different machines.</p>\n",
    "<p>You can change the way Git recognizes and encodes line endings using the core.autocrlf command to git config. The following settings are recommended:</p>\n",
    "<p>On macOS and Linux:</p>\n",
    "<div class=\"codehilite\"><pre><span></span>git config --global core.autocrlf input\n",
    "</pre></div>\n",
    "\n",
    "\n",
    "<p>And on Windows:</p>\n",
    "<div class=\"codehilite\"><pre><span></span>git config --global core.autocrlf true\n",
    "</pre></div>\n",
    "\n",
    "\n",
    "<p>You can read more about this issue on this <a href=\"https://help.github.com/articles/dealing-with-line-endings/\">GitHub page</a>.</p>\n",
    "\n",
    "</div>\n",
    "\n",
    "</section>\n"
   ]
  },
  {
   "cell_type": "markdown",
   "metadata": {},
   "source": [
    "For these lessons, we will be interacting with GitHub and so the email address used should be the same as the one used when you set up your GitHub account later . If you are concerned about privacy, please review [GitHub’s instructions for keeping your email address private](https://help.github.com/articles/setting-your-commit-email-address-on-github/). If you elect to use a private email address with GitHub, then use that same email address for the user.email value, e.g. username@users.noreply.github.com replacing username with your GitHub one. You can change the email address later on by using the git config command again.\n",
    "\n",
    "You should also set your favorite text editor now, following this table:\n",
    "\n",
    "Editor|Configuration command\n",
    "---|---\n",
    "Atom|`$ git config --global core.editor \"atom --wait\"`\n",
    "nano|`$ git config --global core.editor \"nano -w\"`\n",
    "BBEdit (Mac, with command line tools)|`$ git config --global core.editor \"bbedit -w\"`\n",
    "Sublime Text (Mac)|`$ git config --global core.editor \"/Applications/Sublime\\ Text.app/Contents/SharedSupport/bin/subl -n -w\"`\n",
    "Sublime Text (Win, 32-bit install)|`$ git config --global core.editor \"'c:/program files (x86)/sublime text 3/sublime_text.exe' -w\"`\n",
    "Sublime Text (Win, 64-bit install)|`$ git config --global core.editor \"'c:/program files/sublime text 3/sublime_text.exe' -w\"`\n",
    "Notepad++ (Win, 32-bit install)|`$ git config --global core.editor \"'c:/program files (x86)/Notepad++/notepad++.exe' -multiInst -notabbar -nosession -noPlugin\"`\n",
    "Notepad++ (Win, 64-bit install)|`$ git config --global core.editor \"'c:/program files/Notepad++/notepad++.exe' -multiInst -notabbar -nosession -noPlugin\"`\n",
    "Kate (Linux)|`$ git config --global core.editor \"kate\"`\n",
    "Gedit (Linux)|`$ git config --global core.editor \"gedit --wait --new-window\"`\n",
    "Scratch (Linux)|`$ git config --global core.editor \"scratch-text-editor\"`\n",
    "Emacs|`$ git config --global core.editor \"emacs\"`\n",
    "Vim|`$ git config --global core.editor \"vim\"`\n",
    "\n",
    "It is possible to reconfigure the text editor for Git whenever you want to change it."
   ]
  },
  {
   "cell_type": "markdown",
   "metadata": {},
   "source": [
    "\n",
    "<section class=\"callout panel panel-warning\">\n",
    "<div class=\"panel-heading\">\n",
    "<h2><span class=\"fa fa-thumb-tack\"></span> Exiting Vim</h2>\n",
    "</div>\n",
    "\n",
    "\n",
    "<div class=\"panel-body\">\n",
    "\n",
    "<p>Note that Vim is the default editor for many programs. If you haven’t used Vim before and wish to exit a session without saving your changes, press <code>Esc</code> then type <code>:q!</code> and hit Return. If you want to save your changes and quit, press <code>Esc</code> then type <code>:wq</code> and hit Return.</p>\n",
    "\n",
    "</div>\n",
    "\n",
    "</section>\n"
   ]
  },
  {
   "cell_type": "markdown",
   "metadata": {},
   "source": [
    "The four commands we just ran above only need to be run once: the flag --global tells Git to use the settings for every project, in your user account, on this computer.\n",
    "\n",
    "You can check your settings at any time:"
   ]
  },
  {
   "cell_type": "markdown",
   "metadata": {},
   "source": [
    "```\n",
    "git config --list\n",
    "```"
   ]
  },
  {
   "cell_type": "markdown",
   "metadata": {},
   "source": [
    "You can change your configuration as many times as you want: just use the same commands to choose another editor or update your email address."
   ]
  },
  {
   "cell_type": "markdown",
   "metadata": {},
   "source": [
    "\n",
    "<section class=\"callout panel panel-warning\">\n",
    "<div class=\"panel-heading\">\n",
    "<h2><span class=\"fa fa-thumb-tack\"></span> Proxy</h2>\n",
    "</div>\n",
    "\n",
    "\n",
    "<div class=\"panel-body\">\n",
    "\n",
    "<p>In some networks you need to use a proxy. If this is the case, you may also need to tell Git about the proxy:</p>\n",
    "<div class=\"codehilite\"><pre><span></span>git config --global http.proxy proxy-url\n",
    "git config --global https.proxy proxy-url\n",
    "</pre></div>\n",
    "\n",
    "\n",
    "<p>To disable the proxy, use</p>\n",
    "<div class=\"codehilite\"><pre><span></span>git config --global --unset http.proxy\n",
    "git config --global --unset https.proxy\n",
    "</pre></div>\n",
    "\n",
    "</div>\n",
    "\n",
    "</section>\n"
   ]
  },
  {
   "cell_type": "markdown",
   "metadata": {},
   "source": [
    "\n",
    "<section class=\"callout panel panel-warning\">\n",
    "<div class=\"panel-heading\">\n",
    "<h2><span class=\"fa fa-thumb-tack\"></span> Git Help and Manual</h2>\n",
    "</div>\n",
    "\n",
    "\n",
    "<div class=\"panel-body\">\n",
    "\n",
    "<p>Always remember that if you forget a git command, you can access the list of commands by using -h and access the Git manual by using --help :</p>\n",
    "<div class=\"codehilite\"><pre><span></span>git config -h\n",
    "git config --help\n",
    "</pre></div>\n",
    "\n",
    "</div>\n",
    "\n",
    "</section>\n"
   ]
  },
  {
   "cell_type": "markdown",
   "metadata": {},
   "source": [
    "\n",
    "<section class=\"keypoints panel panel-success\">\n",
    "<div class=\"panel-heading\">\n",
    "<h2><span class=\"fa fa-exclamation-circle\"></span> Key Points</h2>\n",
    "</div>\n",
    "\n",
    "\n",
    "<div class=\"panel-body\">\n",
    "\n",
    "<ul>\n",
    "<li>Version control is like an unlimited ‘undo’.</li>\n",
    "<li>Version control also allows many people to work in parallel.</li>\n",
    "<li>Use git config with the --global option to configure a user name, email address, editor, and other preferences once per machine.</li>\n",
    "</ul>\n",
    "\n",
    "</div>\n",
    "\n",
    "</section>\n"
   ]
  },
  {
   "cell_type": "markdown",
   "metadata": {},
   "source": [
    "---\n",
    "The material in this notebook is derived from the Software Carpentry lessons\n",
    "&copy; [Software Carpentry](http://software-carpentry.org/) under the terms\n",
    "of the [CC-BY 4.0](https://creativecommons.org/licenses/by/4.0/) license."
   ]
  }
 ],
 "metadata": {
  "kernelspec": {
   "display_name": "Bash",
   "language": "bash",
   "name": "bash"
  },
  "language_info": {
   "codemirror_mode": "shell",
   "file_extension": ".sh",
   "mimetype": "text/x-sh",
   "name": "bash"
  },
  "swc_attribution": true
 },
 "nbformat": 4,
 "nbformat_minor": 2
}
