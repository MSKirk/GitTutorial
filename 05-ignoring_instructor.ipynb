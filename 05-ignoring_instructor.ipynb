{
 "cells": [
  {
   "cell_type": "markdown",
   "metadata": {},
   "source": [
    "# Ignoring Things"
   ]
  },
  {
   "cell_type": "markdown",
   "metadata": {},
   "source": [
    "What if we have files that we do not want Git to track for us, like backup files created by our editor or intermediate files created during data analysis? Let’s create a few dummy files:"
   ]
  },
  {
   "cell_type": "code",
   "execution_count": 2,
   "metadata": {},
   "outputs": [],
   "source": [
    "cd /Users/mskirk/Desktop/planets\n",
    "mkdir results\n",
    "touch a.dat b.dat c.dat results/a.out results/b.out"
   ]
  },
  {
   "cell_type": "markdown",
   "metadata": {},
   "source": [
    "and see what Git says:"
   ]
  },
  {
   "cell_type": "code",
   "execution_count": 3,
   "metadata": {},
   "outputs": [
    {
     "name": "stdout",
     "output_type": "stream",
     "text": [
      "On branch master\n",
      "Untracked files:\n",
      "  (use \"git add <file>...\" to include in what will be committed)\n",
      "\n",
      "\t\u001b[31ma.dat\u001b[m\n",
      "\t\u001b[31mb.dat\u001b[m\n",
      "\t\u001b[31mc.dat\u001b[m\n",
      "\t\u001b[31mresults/\u001b[m\n",
      "\n",
      "nothing added to commit but untracked files present (use \"git add\" to track)\n"
     ]
    }
   ],
   "source": [
    "git status"
   ]
  },
  {
   "cell_type": "markdown",
   "metadata": {},
   "source": [
    "Putting these files under version control would be a waste of disk space. What’s worse, having them all listed could distract us from changes that actually matter, so let’s tell Git to ignore them.\n",
    "\n",
    "We do this by creating a file in the root directory of our project called .gitignore:"
   ]
  },
  {
   "cell_type": "code",
   "execution_count": 1,
   "metadata": {},
   "outputs": [
    {
     "name": "stdout",
     "output_type": "stream",
     "text": [
      "cat: .gitignore: No such file or directory\n"
     ]
    },
    {
     "ename": "",
     "evalue": "1",
     "output_type": "error",
     "traceback": []
    }
   ],
   "source": [
    "edit .gitignore\n",
    "cat .gitignore"
   ]
  },
  {
   "cell_type": "markdown",
   "metadata": {},
   "source": [
    "These patterns tell Git to ignore any file whose name ends in .dat and everything in the results directory. (If any of these files were already being tracked, Git would continue to track them.)\n",
    "\n",
    "Once we have created this file, the output of git status is much cleaner:"
   ]
  },
  {
   "cell_type": "code",
   "execution_count": null,
   "metadata": {},
   "outputs": [],
   "source": [
    "git status"
   ]
  },
  {
   "cell_type": "markdown",
   "metadata": {},
   "source": [
    "The only thing Git notices now is the newly-created .gitignore file. You might think we wouldn’t want to track it, but everyone we’re sharing our repository with will probably want to ignore the same things that we’re ignoring. Let’s add and commit .gitignore:"
   ]
  },
  {
   "cell_type": "code",
   "execution_count": null,
   "metadata": {},
   "outputs": [],
   "source": [
    "git add .gitignore\n",
    "git commit -m \"Ignore data files and the results folder.\"\n",
    "git status"
   ]
  },
  {
   "cell_type": "markdown",
   "metadata": {},
   "source": [
    "As a bonus, using .gitignore helps us avoid accidentally adding to the repository files that we don’t want to track:"
   ]
  },
  {
   "cell_type": "code",
   "execution_count": null,
   "metadata": {},
   "outputs": [],
   "source": [
    "git add a.dat"
   ]
  },
  {
   "cell_type": "markdown",
   "metadata": {},
   "source": [
    "If we really want to override our ignore settings, we can use git add -f to force Git to add something. For example, git add -f a.dat. We can also always see the status of ignored files if we want:"
   ]
  },
  {
   "cell_type": "code",
   "execution_count": null,
   "metadata": {},
   "outputs": [],
   "source": [
    "git status --ignored"
   ]
  },
  {
   "cell_type": "markdown",
   "metadata": {},
   "source": [
    "\n",
    "<section class=\"challenge panel panel-success\">\n",
    "<div class=\"panel-heading\">\n",
    "<h2><span class=\"fa fa-pencil\"></span> # Ignoring Nested Files</h2>\n",
    "</div>\n",
    "\n",
    "\n",
    "<div class=\"panel-body\">\n",
    "\n",
    "<p>Given a directory structure that looks like:</p>\n",
    "<div class=\"codehilite\"><pre><span></span>results/data\n",
    "results/plots\n",
    "</pre></div>\n",
    "\n",
    "\n",
    "<p>How would you ignore only results/plots and not results/data?</p>\n",
    "\n",
    "</div>\n",
    "\n",
    "</section>\n"
   ]
  },
  {
   "cell_type": "markdown",
   "metadata": {},
   "source": [
    "\n",
    "<section class=\"solution panel panel-primary\">\n",
    "<div class=\"panel-heading\">\n",
    "<h2><span class=\"fa fa-eye\"></span> Solution</h2>\n",
    "</div>\n",
    "\n",
    "\n",
    "<div class=\"panel-body\">\n",
    "\n",
    "<p>As with most programming issues, there are a few ways that you could solve this. If you only want to ignore the contents of results/plots, you can change your .gitignore to ignore only the /plots/ subfolder by adding the following line to your .gitignore:</p>\n",
    "<div class=\"codehilite\"><pre><span></span>results/plots/\n",
    "</pre></div>\n",
    "\n",
    "\n",
    "<p>If, instead, you want to ignore everything in /results/, but wanted to track results/data, then you can add results/ to your .gitignore and create an exception for the results/data/ folder. The next challenge will cover this type of solution.</p>\n",
    "<p>Sometimes the <strong> pattern comes in handy, too, which matches multiple directory levels. E.g. </strong>/results/plots/* would make git ignore the results/plots directory in any root directory.</p>\n",
    "\n",
    "</div>\n",
    "\n",
    "</section>\n"
   ]
  },
  {
   "cell_type": "markdown",
   "metadata": {},
   "source": [
    "\n",
    "<section class=\"challenge panel panel-success\">\n",
    "<div class=\"panel-heading\">\n",
    "<h2><span class=\"fa fa-pencil\"></span> # Including Specific Files</h2>\n",
    "</div>\n",
    "\n",
    "\n",
    "<div class=\"panel-body\">\n",
    "\n",
    "<p>How would you ignore all .data files in your root directory except for final.data? Hint: Find out what ! (the exclamation point operator) does</p>\n",
    "\n",
    "</div>\n",
    "\n",
    "</section>\n"
   ]
  },
  {
   "cell_type": "markdown",
   "metadata": {},
   "source": [
    "\n",
    "<section class=\"solution panel panel-primary\">\n",
    "<div class=\"panel-heading\">\n",
    "<h2><span class=\"fa fa-eye\"></span> Solution</h2>\n",
    "</div>\n",
    "\n",
    "\n",
    "<div class=\"panel-body\">\n",
    "\n",
    "<p>You would add the following two lines to your .gitignore:</p>\n",
    "<div class=\"codehilite\"><pre><span></span>*.data           # ignore all data files\n",
    "!final.data      # except final.data\n",
    "</pre></div>\n",
    "\n",
    "\n",
    "<p>The exclamation point operator will include a previously excluded entry.</p>\n",
    "\n",
    "</div>\n",
    "\n",
    "</section>\n"
   ]
  },
  {
   "cell_type": "markdown",
   "metadata": {},
   "source": [
    "\n",
    "<section class=\"challenge panel panel-success\">\n",
    "<div class=\"panel-heading\">\n",
    "<h2><span class=\"fa fa-pencil\"></span> # Ignoring all data Files in a Directory</h2>\n",
    "</div>\n",
    "\n",
    "\n",
    "<div class=\"panel-body\">\n",
    "\n",
    "<p>Given a directory structure that looks like:</p>\n",
    "<div class=\"codehilite\"><pre><span></span>results/data/position/gps/a.data\n",
    "results/data/position/gps/b.data\n",
    "results/data/position/gps/c.data\n",
    "results/data/position/gps/info.txt\n",
    "results/plots\n",
    "</pre></div>\n",
    "\n",
    "\n",
    "<p>What’s the shortest .gitignore rule you could write to ignore all .data files in result/data/position/gps? Do not ignore the info.txt.</p>\n",
    "\n",
    "</div>\n",
    "\n",
    "</section>\n"
   ]
  },
  {
   "cell_type": "markdown",
   "metadata": {},
   "source": [
    "\n",
    "<section class=\"solution panel panel-primary\">\n",
    "<div class=\"panel-heading\">\n",
    "<h2><span class=\"fa fa-eye\"></span> Solution</h2>\n",
    "</div>\n",
    "\n",
    "\n",
    "<div class=\"panel-body\">\n",
    "\n",
    "<p>Appending results/data/position/gps/*.data will match every file in results/data/position/gps that ends with .data. The file results/data/position/gps/info.txt will not be ignored.</p>\n",
    "\n",
    "</div>\n",
    "\n",
    "</section>\n"
   ]
  },
  {
   "cell_type": "markdown",
   "metadata": {},
   "source": [
    "\n",
    "<section class=\"challenge panel panel-success\">\n",
    "<div class=\"panel-heading\">\n",
    "<h2><span class=\"fa fa-pencil\"></span> # The Order of Rules</h2>\n",
    "</div>\n",
    "\n",
    "\n",
    "<div class=\"panel-body\">\n",
    "\n",
    "<p>Given a .gitignore file with the following contents:</p>\n",
    "<div class=\"codehilite\"><pre><span></span>*.data\n",
    "!*.data\n",
    "</pre></div>\n",
    "\n",
    "\n",
    "<p>What will be the result?</p>\n",
    "\n",
    "</div>\n",
    "\n",
    "</section>\n"
   ]
  },
  {
   "cell_type": "markdown",
   "metadata": {},
   "source": [
    "\n",
    "<section class=\"solution panel panel-primary\">\n",
    "<div class=\"panel-heading\">\n",
    "<h2><span class=\"fa fa-eye\"></span> Solution</h2>\n",
    "</div>\n",
    "\n",
    "\n",
    "<div class=\"panel-body\">\n",
    "\n",
    "<p>The ! modifier will negate an entry from a previously defined ignore pattern. Because the !*.data entry negates all of the previous .data files in the .gitignore, none of them will be ignored, and all .data files will be tracked.</p>\n",
    "\n",
    "</div>\n",
    "\n",
    "</section>\n"
   ]
  },
  {
   "cell_type": "markdown",
   "metadata": {},
   "source": [
    "\n",
    "<section class=\"challenge panel panel-success\">\n",
    "<div class=\"panel-heading\">\n",
    "<h2><span class=\"fa fa-pencil\"></span> # Log Files</h2>\n",
    "</div>\n",
    "\n",
    "\n",
    "<div class=\"panel-body\">\n",
    "\n",
    "<p>You wrote a script that creates many intermediate log-files of the form log_01, log_02, log_03, etc. You want to keep them but you do not want to track them through git.</p>\n",
    "<ol>\n",
    "<li>Write one .gitignore entry that excludes files of the form log_01, log_02, etc.</li>\n",
    "<li>Test your “ignore pattern” by creating some dummy files of the form log_01, etc.</li>\n",
    "<li>\n",
    "<p>You find that the file log_01 is very important after all, add it to the tracked files without changing the .gitignore again.</p>\n",
    "</li>\n",
    "<li>\n",
    "<p>Discuss with your neighbor what other types of files could reside in your directory that you do not want to track and thus would exclude via .gitignore.</p>\n",
    "</li>\n",
    "</ol>\n",
    "\n",
    "</div>\n",
    "\n",
    "</section>\n"
   ]
  },
  {
   "cell_type": "markdown",
   "metadata": {},
   "source": [
    "\n",
    "<section class=\"solution panel panel-primary\">\n",
    "<div class=\"panel-heading\">\n",
    "<h2><span class=\"fa fa-eye\"></span> # Solution</h2>\n",
    "</div>\n",
    "\n",
    "\n",
    "<div class=\"panel-body\">\n",
    "\n",
    "<ol>\n",
    "<li>append either log_<em> or log</em> as a new entry in your .gitignore</li>\n",
    "<li>track log_01 using git add -f log_01</li>\n",
    "</ol>\n",
    "\n",
    "</div>\n",
    "\n",
    "</section>\n"
   ]
  },
  {
   "cell_type": "markdown",
   "metadata": {},
   "source": [
    "\n",
    "<section class=\"keypoints panel panel-success\">\n",
    "<div class=\"panel-heading\">\n",
    "<h2><span class=\"fa fa-exclamation-circle\"></span> </h2>\n",
    "</div>\n",
    "\n",
    "\n",
    "<div class=\"panel-body\">\n",
    "\n",
    "<p>Key Points</p>\n",
    "<ul>\n",
    "<li>The .gitignore file tells Git what files to ignore.</li>\n",
    "</ul>\n",
    "\n",
    "</div>\n",
    "\n",
    "</section>\n"
   ]
  },
  {
   "cell_type": "markdown",
   "metadata": {},
   "source": [
    "---\n",
    "The material in this notebook is derived from the Software Carpentry lessons\n",
    "&copy; [Software Carpentry](http://software-carpentry.org/) under the terms\n",
    "of the [CC-BY 4.0](https://creativecommons.org/licenses/by/4.0/) license."
   ]
  }
 ],
 "metadata": {
  "kernelspec": {
   "display_name": "Bash",
   "language": "bash",
   "name": "bash"
  },
  "language_info": {
   "codemirror_mode": "shell",
   "file_extension": ".sh",
   "mimetype": "text/x-sh",
   "name": "bash"
  },
  "swc_attribution": true
 },
 "nbformat": 4,
 "nbformat_minor": 2
}
