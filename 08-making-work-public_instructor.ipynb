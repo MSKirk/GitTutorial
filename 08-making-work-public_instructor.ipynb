{
 "cells": [
  {
   "cell_type": "markdown",
   "metadata": {},
   "source": [
    "# Making work public"
   ]
  },
  {
   "cell_type": "markdown",
   "metadata": {},
   "source": [
    "## Licensing\n",
    "\n",
    "When a repository with source code, a manuscript or other creative works becomes public, it should include a file LICENSE or LICENSE.txt in the base directory of the repository that clearly states under which license the content is being made available. This is because creative works are automatically eligible for intellectual property (and thus copyright) protection. Reusing creative works without a license is dangerous, because the copyright holders could sue you for copyright infringement.\n",
    "\n",
    "A license solves this problem by granting rights to others (the licensees) that they would otherwise not have. What rights are being granted under which conditions differs, often only slightly, from one license to another. In practice, a few licenses are by far the most popular, and choosealicense.com will help you find a common license that suits your needs. Important considerations include:\n",
    "\n",
    "- Whether you want to address patent rights.\n",
    "- Whether you require people distributing derivative works to also distribute their source code.\n",
    "- Whether the content you are licensing is source code.\n",
    "- Whether you want to license the code at all.\n",
    "\n",
    "Choosing a license that is in common use makes life easier for contributors and users, because they are more likely to already be familiar with the license and don’t have to wade through a bunch of jargon to decide if they’re ok with it. The Open Source Initiative and Free Software Foundation both maintain lists of licenses which are good choices.\n",
    "\n",
    "This article provides an excellent overview of licensing and licensing options from the perspective of scientists who also write code.\n",
    "\n",
    "At the end of the day what matters is that there is a clear statement as to what the license is. Also, the license is best chosen from the get-go, even if for a repository that is not public. Pushing off the decision only makes it more complicated later, because each time a new collaborator starts contributing, they, too, hold copyright and will thus need to be asked for approval once a license is chosen."
   ]
  },
  {
   "cell_type": "markdown",
   "metadata": {},
   "source": [
    "\n",
    "<section class=\"challenge panel panel-success\">\n",
    "<div class=\"panel-heading\">\n",
    "<h2><span class=\"fa fa-pencil\"></span> Can I Use Open License?</h2>\n",
    "</div>\n",
    "\n",
    "\n",
    "<div class=\"panel-body\">\n",
    "\n",
    "<p>Find out whether you are allowed to apply an open license to your software. Can you do this unilaterally, or do you need permission from someone in your institution? If so, who?</p>\n",
    "\n",
    "</div>\n",
    "\n",
    "</section>\n"
   ]
  },
  {
   "cell_type": "markdown",
   "metadata": {},
   "source": [
    "\n",
    "<section class=\"challenge panel panel-success\">\n",
    "<div class=\"panel-heading\">\n",
    "<h2><span class=\"fa fa-pencil\"></span> What licenses have I already accepted?</h2>\n",
    "</div>\n",
    "\n",
    "\n",
    "<div class=\"panel-body\">\n",
    "\n",
    "<p>Many of the software tools we use on a daily basis (including in this workshop) are released as open-source software. Pick a project on GitHub from the list below, or one of your own choosing. Find its license (usually in a file called LICENSE or COPYING) and talk about how it restricts your use of the software. Is it one of the licenses discussed in this session? How is it different?</p>\n",
    "<ul>\n",
    "<li>Git, the source-code management tool</li>\n",
    "<li>CPython, the standard implementation of the Python language</li>\n",
    "<li>Jupyter, the project behind the web-based Python notebooks we’ll be using</li>\n",
    "<li>EtherPad, a real-time collaborative editor</li>\n",
    "</ul>\n",
    "\n",
    "</div>\n",
    "\n",
    "</section>\n"
   ]
  },
  {
   "cell_type": "markdown",
   "metadata": {},
   "source": [
    "\n",
    "<section class=\"keypoints panel panel-success\">\n",
    "<div class=\"panel-heading\">\n",
    "<h2><span class=\"fa fa-exclamation-circle\"></span> Key Points</h2>\n",
    "</div>\n",
    "\n",
    "\n",
    "<div class=\"panel-body\">\n",
    "\n",
    "<ul>\n",
    "<li>People who incorporate General Public License (GPL’d) software into their own software must make their software also open under the GPL license; most other open licenses do not require this.</li>\n",
    "<li>The Creative Commons family of licenses allow people to mix and match requirements and restrictions on attribution, creation of derivative works, further sharing, and commercialization.</li>\n",
    "<li>People who are not lawyers should not try to write licenses from scratch.</li>\n",
    "</ul>\n",
    "\n",
    "</div>\n",
    "\n",
    "</section>\n"
   ]
  },
  {
   "cell_type": "markdown",
   "metadata": {},
   "source": [
    "## Citation\n",
    "\n",
    "You may want to include a file called CITATION or CITATION.txt that describes how to reference your project; the one for Software Carpentry states:\n",
    "\n",
    "```\n",
    "To reference Software Carpentry in publications, please cite both of the following:\n",
    "\n",
    "Greg Wilson: \"Software Carpentry: Getting Scientists to Write Better\n",
    "Code by Making Them More Productive\".  Computing in Science &\n",
    "Engineering, Nov-Dec 2006.\n",
    "\n",
    "Greg Wilson: \"Software Carpentry: Lessons Learned\". arXiv:1307.5448,\n",
    "July 2013.\n",
    "\n",
    "@article{wilson-software-carpentry-2006,\n",
    "    author =  {Greg Wilson},\n",
    "    title =   {Software Carpentry: Getting Scientists to Write Better Code by Making Them More Productive},\n",
    "    journal = {Computing in Science \\& Engineering},\n",
    "    month =   {November--December},\n",
    "    year =    {2006},\n",
    "}\n",
    "\n",
    "@online{wilson-software-carpentry-2013,\n",
    "  author      = {Greg Wilson},\n",
    "  title       = {Software Carpentry: Lessons Learned},\n",
    "  version     = {1},\n",
    "  date        = {2013-07-20},\n",
    "  eprinttype  = {arxiv},\n",
    "  eprint      = {1307.5448}\n",
    "}\n",
    "```\n",
    "\n",
    "More detailed advice, and other ways to make your code citable can be found at the Software Sustainability Institute blog and in:\n",
    "\n",
    "> Smith AM, Katz DS, Niemeyer KE, FORCE11 Software Citation Working Group. (2016) Software citation principles. PeerJ Computer Science 2:e86 https://doi.org/10.7717/peerj-cs.86\n",
    "\n",
    "There is also an `@software{...` BibTeX entry type in case no “umbrella” citation like a paper or book exists for the project you want to make citable."
   ]
  },
  {
   "cell_type": "markdown",
   "metadata": {},
   "source": [
    "\n",
    "<section class=\"keypoints panel panel-success\">\n",
    "<div class=\"panel-heading\">\n",
    "<h2><span class=\"fa fa-exclamation-circle\"></span> Key Points</h2>\n",
    "</div>\n",
    "\n",
    "\n",
    "<div class=\"panel-body\">\n",
    "\n",
    "<ul>\n",
    "<li>Add a CITATION file to a repository to explain how you want your work cited.</li>\n",
    "</ul>\n",
    "\n",
    "</div>\n",
    "\n",
    "</section>\n"
   ]
  },
  {
   "cell_type": "markdown",
   "metadata": {},
   "source": [
    "---\n",
    "The material in this notebook is derived from the Software Carpentry lessons\n",
    "&copy; [Software Carpentry](http://software-carpentry.org/) under the terms\n",
    "of the [CC-BY 4.0](https://creativecommons.org/licenses/by/4.0/) license."
   ]
  }
 ],
 "metadata": {
  "kernelspec": {
   "display_name": "Bash",
   "language": "bash",
   "name": "bash"
  },
  "language_info": {
   "codemirror_mode": "shell",
   "file_extension": ".sh",
   "mimetype": "text/x-sh",
   "name": "bash"
  },
  "swc_attribution": true
 },
 "nbformat": 4,
 "nbformat_minor": 2
}
